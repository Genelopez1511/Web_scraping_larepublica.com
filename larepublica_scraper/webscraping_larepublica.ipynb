{
 "cells": [
  {
   "cell_type": "code",
   "execution_count": 8,
   "metadata": {},
   "outputs": [],
   "source": [
    "import requests\n",
    "import lxml.html as html\n",
    "import os\n",
    "import datetime"
   ]
  },
  {
   "cell_type": "code",
   "execution_count": 9,
   "metadata": {},
   "outputs": [],
   "source": [
    "HOME_URL ='https://www.larepublica.co/'\n",
    "XPATH_LINK_TO_ARTICLE = '//text-fill/a/@href'\n",
    "XPATH_TITLE = '//div[@class=\"mb-auto\"]/text-fill/span/text()'\n",
    "XPATH_SUMMARY = '//div[@class=\"lead\"]/p/text()'\n",
    "XPATH_BODY = '//div[@class=\"html-content\"]/p[not(@class)]/text()'"
   ]
  },
  {
   "cell_type": "code",
   "execution_count": 10,
   "metadata": {},
   "outputs": [],
   "source": [
    "def parse_notice(link, today):\n",
    "    try:\n",
    "        response = requests.get(link)\n",
    "        if response.status_code == 200:\n",
    "            notice = response.content.decode('utf-8')\n",
    "            parsed = html.fromstring(notice)\n",
    "            try:\n",
    "                title = parsed.xpath(XPATH_TITLE)[0]\n",
    "                title = title.replace('\\\"', '')\n",
    "                summary = parsed.xpath(XPATH_SUMMARY)[0]\n",
    "                body = parsed.xpath(XPATH_BODY)\n",
    "            except IndexError:\n",
    "                return\n",
    "            with open(f'{today}/{title}.txt', 'w', encoding='utf-8') as f:\n",
    "                f.write(title + '\\n\\n')\n",
    "                f.write(summary + '\\n\\n')\n",
    "                for p in body:\n",
    "                    f.write(p + '\\n')\n",
    "        else:\n",
    "            raise ValueError(f'Error: {response.status_code}')\n",
    "    except ValueError as ve:\n",
    "        print(ve)"
   ]
  },
  {
   "cell_type": "code",
   "execution_count": 11,
   "metadata": {},
   "outputs": [],
   "source": [
    "def parse_home():\n",
    "    try:\n",
    "        response = requests.get(HOME_URL)\n",
    "        if response.status_code == 200:\n",
    "            home = response.content.decode('utf-8')\n",
    "            parsed = html.fromstring(home)\n",
    "            links_to_notices = parsed.xpath(XPATH_LINK_TO_ARTICLE)\n",
    "            # print(links_to_notices)\n",
    "\n",
    "            today = datetime.date.today().strftime('%d-%m-%Y')\n",
    "            if not os.path.isdir(today):\n",
    "                os.mkdir(today)\n",
    "\n",
    "            for link in links_to_notices:\n",
    "                parse_notice(link, today)\n",
    "        else:\n",
    "            raise ValueError(f'Error: {response.status_code}')\n",
    "    except ValueError as ve:\n",
    "        print(ve)\n",
    "\n",
    "\n",
    "def run():\n",
    "    parse_home()\n",
    "\n",
    "\n",
    "if __name__ == '__main__':\n",
    "    run()"
   ]
  }
 ],
 "metadata": {
  "interpreter": {
   "hash": "6c3ed7ee24fab0329143935c7a8d1152471eb3ca2f0e5c54769f25c716a07dbd"
  },
  "kernelspec": {
   "display_name": "Python 3.8.12 64-bit ('scraping': conda)",
   "language": "python",
   "name": "python3"
  },
  "language_info": {
   "codemirror_mode": {
    "name": "ipython",
    "version": 3
   },
   "file_extension": ".py",
   "mimetype": "text/x-python",
   "name": "python",
   "nbconvert_exporter": "python",
   "pygments_lexer": "ipython3",
   "version": "3.8.12"
  },
  "orig_nbformat": 4
 },
 "nbformat": 4,
 "nbformat_minor": 2
}
